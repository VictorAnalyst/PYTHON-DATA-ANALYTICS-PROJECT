{
 "cells": [
  {
   "cell_type": "code",
   "execution_count": null,
   "metadata": {
    "_cell_guid": "b1076dfc-b9ad-4769-8c92-a6c4dae69d19",
    "_uuid": "8f2839f25d086af736a60e9eeb907d3b93b6e0e5"
   },
   "outputs": [],
   "source": [
    "# This Python 3 environment comes with many helpful analytics libraries installed\n",
    "# It is defined by the kaggle/python Docker image: https://github.com/kaggle/docker-python\n",
    "# For example, here's several helpful packages to load\n",
    "\n",
    "import numpy as np # linear algebra\n",
    "import pandas as pd # data processing, CSV file I/O (e.g. pd.read_csv)\n",
    "import plotly.express as px\n",
    "import plotly.graph_objects as go\n",
    "# Input data files are available in the read-only \"../input/\" directory\n",
    "# For example, running this (by clicking run or pressing Shift+Enter) will list all files under the input directory\n",
    "\n",
    "import os\n",
    "for dirname, _, filenames in os.walk('/kaggle/input'):\n",
    "    for filename in filenames:\n",
    "        print(os.path.join(dirname, filename))\n",
    "\n",
    "# You can write up to 20GB to the current directory (/kaggle/working/) that gets preserved as output when you create a version using \"Save & Run All\" \n",
    "# You can also write temporary files to /kaggle/temp/, but they won't be saved outside of the current session"
   ]
  },
  {
   "cell_type": "markdown",
   "metadata": {},
   "source": [
    "1. Covid-19\n",
    "    * [Confirmed](#1)<br>\n",
    "    * [Recovered](#2)<br>\n",
    "    * [Deaths](#3)<br>\n",
    "    * [Total](#4)"
   ]
  },
  {
   "cell_type": "markdown",
   "metadata": {},
   "source": [
    "<a id = \"1\"></a><br>\n",
    "# Confirmed"
   ]
  },
  {
   "cell_type": "code",
   "execution_count": null,
   "metadata": {},
   "outputs": [],
   "source": [
    "df = pd.read_csv(\"/kaggle/input/novel-corona-virus-2019-dataset/time_series_covid_19_confirmed.csv\")\n",
    "df.head()"
   ]
  },
  {
   "cell_type": "code",
   "execution_count": null,
   "metadata": {},
   "outputs": [],
   "source": [
    "df = df.drop(columns = [\"Province/State\",\"Lat\",\"Long\"])\n",
    "df.head()"
   ]
  },
  {
   "cell_type": "code",
   "execution_count": null,
   "metadata": {},
   "outputs": [],
   "source": [
    "df = df.groupby(\"Country/Region\").aggregate(np.sum).T\n",
    "df.head(100)"
   ]
  },
  {
   "cell_type": "code",
   "execution_count": null,
   "metadata": {},
   "outputs": [],
   "source": [
    "df.index.name = \"Date\"\n",
    "df"
   ]
  },
  {
   "cell_type": "code",
   "execution_count": null,
   "metadata": {},
   "outputs": [],
   "source": [
    "df = df.reset_index()\n",
    "df"
   ]
  },
  {
   "cell_type": "code",
   "execution_count": null,
   "metadata": {},
   "outputs": [],
   "source": [
    "melt_c_df = df.melt(id_vars=[\"Date\"],var_name=\"Country\",value_name=\"Confirmed\")\n",
    "melt_c_df"
   ]
  },
  {
   "cell_type": "code",
   "execution_count": null,
   "metadata": {},
   "outputs": [],
   "source": [
    "melt_c_df[\"Date\"] = pd.to_datetime(melt_c_df[\"Date\"])\n",
    "melt_c_df"
   ]
  },
  {
   "cell_type": "code",
   "execution_count": null,
   "metadata": {},
   "outputs": [],
   "source": [
    "max_date = melt_c_df[\"Date\"].max()\n",
    "max_date"
   ]
  },
  {
   "cell_type": "code",
   "execution_count": null,
   "metadata": {},
   "outputs": [],
   "source": [
    "melt_c_df[\"Date\"] = melt_c_df[\"Date\"].dt.strftime(\"%Y/%m/%d\")\n",
    "melt_c_df\n"
   ]
  },
  {
   "cell_type": "code",
   "execution_count": null,
   "metadata": {},
   "outputs": [],
   "source": [
    "max_date = melt_c_df[\"Date\"].max()\n",
    "max_date"
   ]
  },
  {
   "cell_type": "code",
   "execution_count": null,
   "metadata": {},
   "outputs": [],
   "source": [
    "total_c_df = melt_c_df[melt_c_df[\"Date\"]==max_date]\n",
    "total_c_df"
   ]
  },
  {
   "cell_type": "code",
   "execution_count": null,
   "metadata": {},
   "outputs": [],
   "source": [
    "total_c = total_c_df[\"Confirmed\"].sum()\n",
    "total_c"
   ]
  },
  {
   "cell_type": "code",
   "execution_count": null,
   "metadata": {},
   "outputs": [],
   "source": [
    "figure = px.bar(total_c_df,x=\"Country\",y=\"Confirmed\")\n",
    "figure"
   ]
  },
  {
   "cell_type": "code",
   "execution_count": null,
   "metadata": {},
   "outputs": [],
   "source": [
    "figure = px.bar(total_c_df.sort_values(\"Confirmed\",ascending=False).head(30),x=\"Country\",y=\"Confirmed\",text=\"Confirmed\")\n",
    "figure\n"
   ]
  },
  {
   "cell_type": "code",
   "execution_count": null,
   "metadata": {},
   "outputs": [],
   "source": [
    "figure = px.line(melt_c_df[melt_c_df[\"Country\"]==\"US\"],x=\"Date\",y=\"Confirmed\")\n",
    "figure\n",
    "#US Confirmed"
   ]
  },
  {
   "cell_type": "code",
   "execution_count": null,
   "metadata": {},
   "outputs": [],
   "source": [
    "figure = px.scatter(melt_c_df,x=\"Date\",y=\"Confirmed\",color=\"Country\")\n",
    "figure"
   ]
  },
  {
   "cell_type": "markdown",
   "metadata": {},
   "source": [
    "<a id = \"2\"></a><br>\n",
    "# Recovered"
   ]
  },
  {
   "cell_type": "code",
   "execution_count": null,
   "metadata": {},
   "outputs": [],
   "source": [
    "df_recovered = pd.read_csv(\"/kaggle/input/novel-corona-virus-2019-dataset/time_series_covid_19_recovered.csv\")\n",
    "df_recovered.head(100)"
   ]
  },
  {
   "cell_type": "code",
   "execution_count": null,
   "metadata": {},
   "outputs": [],
   "source": [
    "df_recovered = df_recovered.drop(columns = [\"Province/State\",\"Lat\",\"Long\"])\n",
    "df_recovered"
   ]
  },
  {
   "cell_type": "code",
   "execution_count": null,
   "metadata": {},
   "outputs": [],
   "source": [
    "df_recovered = df_recovered.groupby(\"Country/Region\").aggregate(np.sum).T\n",
    "df_recovered"
   ]
  },
  {
   "cell_type": "code",
   "execution_count": null,
   "metadata": {},
   "outputs": [],
   "source": [
    "df_recovered.index.name = \"Date\"\n",
    "df_recovered\n"
   ]
  },
  {
   "cell_type": "code",
   "execution_count": null,
   "metadata": {},
   "outputs": [],
   "source": [
    "df_recovered = df_recovered.reset_index()\n",
    "df_recovered"
   ]
  },
  {
   "cell_type": "code",
   "execution_count": null,
   "metadata": {},
   "outputs": [],
   "source": [
    "melt_r_df = df_recovered.melt(id_vars=[\"Date\"],var_name=\"Country\",value_name=\"Recovered\")\n",
    "melt_r_df"
   ]
  },
  {
   "cell_type": "code",
   "execution_count": null,
   "metadata": {},
   "outputs": [],
   "source": [
    "melt_r_df[\"Date\"] = pd.to_datetime(melt_r_df[\"Date\"])\n",
    "melt_r_df"
   ]
  },
  {
   "cell_type": "code",
   "execution_count": null,
   "metadata": {},
   "outputs": [],
   "source": [
    "max_date = melt_r_df[\"Date\"].max()\n",
    "max_date"
   ]
  },
  {
   "cell_type": "code",
   "execution_count": null,
   "metadata": {},
   "outputs": [],
   "source": [
    "melt_r_df[\"Date\"] = melt_r_df[\"Date\"].dt.strftime(\"%Y/%m/%d\")\n",
    "melt_r_df"
   ]
  },
  {
   "cell_type": "code",
   "execution_count": null,
   "metadata": {},
   "outputs": [],
   "source": [
    "max_date = melt_r_df[\"Date\"].max()\n",
    "max_date"
   ]
  },
  {
   "cell_type": "code",
   "execution_count": null,
   "metadata": {},
   "outputs": [],
   "source": [
    "total_r_df = melt_r_df[melt_r_df[\"Date\"]==max_date]\n",
    "total_r_df"
   ]
  },
  {
   "cell_type": "code",
   "execution_count": null,
   "metadata": {},
   "outputs": [],
   "source": [
    "total_r = total_r_df[\"Recovered\"].sum()\n",
    "total_r"
   ]
  },
  {
   "cell_type": "code",
   "execution_count": null,
   "metadata": {},
   "outputs": [],
   "source": [
    "figure_r = px.bar(total_r_df,x=\"Country\",y=\"Recovered\")\n",
    "figure_r"
   ]
  },
  {
   "cell_type": "code",
   "execution_count": null,
   "metadata": {},
   "outputs": [],
   "source": [
    "figure_r = px.bar(total_r_df.sort_values(\"Recovered\",ascending=False).head(30),x=\"Country\",y=\"Recovered\",text=\"Recovered\")\n",
    "figure_r"
   ]
  },
  {
   "cell_type": "code",
   "execution_count": null,
   "metadata": {},
   "outputs": [],
   "source": [
    "figure_r = px.line(melt_r_df[melt_r_df[\"Country\"]==\"US\"],x=\"Date\",y=\"Recovered\")\n",
    "figure_r\n",
    "#US Recovered"
   ]
  },
  {
   "cell_type": "code",
   "execution_count": null,
   "metadata": {},
   "outputs": [],
   "source": [
    "figure_r = px.scatter(melt_r_df,x=\"Date\",y=\"Recovered\",color=\"Country\")\n",
    "figure_r"
   ]
  },
  {
   "cell_type": "markdown",
   "metadata": {},
   "source": [
    "<a id = \"3\"></a><br>\n",
    "# Deaths"
   ]
  },
  {
   "cell_type": "code",
   "execution_count": null,
   "metadata": {},
   "outputs": [],
   "source": [
    "df_death = pd.read_csv(\"/kaggle/input/novel-corona-virus-2019-dataset/time_series_covid_19_deaths.csv\")\n",
    "df_death"
   ]
  },
  {
   "cell_type": "code",
   "execution_count": null,
   "metadata": {},
   "outputs": [],
   "source": [
    "df_death = df_death.drop(columns=[\"Province/State\",\"Lat\",\"Long\"])\n",
    "df_death"
   ]
  },
  {
   "cell_type": "code",
   "execution_count": null,
   "metadata": {},
   "outputs": [],
   "source": [
    "df_death = df_death.groupby(\"Country/Region\").aggregate(np.sum).T\n",
    "df_death"
   ]
  },
  {
   "cell_type": "code",
   "execution_count": null,
   "metadata": {},
   "outputs": [],
   "source": [
    "df_death.index.name = \"Date\"\n",
    "df_death\n"
   ]
  },
  {
   "cell_type": "code",
   "execution_count": null,
   "metadata": {},
   "outputs": [],
   "source": [
    "df_death = df_death.reset_index()\n",
    "df_death"
   ]
  },
  {
   "cell_type": "code",
   "execution_count": null,
   "metadata": {},
   "outputs": [],
   "source": [
    "melt_d_df = df_death.melt(id_vars=[\"Date\"],var_name=\"Country\",value_name=\"Deaths\")\n",
    "melt_d_df"
   ]
  },
  {
   "cell_type": "code",
   "execution_count": null,
   "metadata": {},
   "outputs": [],
   "source": [
    "melt_d_df[\"Date\"] = pd.to_datetime(melt_c_df[\"Date\"])\n",
    "melt_d_df"
   ]
  },
  {
   "cell_type": "code",
   "execution_count": null,
   "metadata": {},
   "outputs": [],
   "source": [
    "max_date = melt_d_df[\"Date\"].max()\n",
    "max_date"
   ]
  },
  {
   "cell_type": "code",
   "execution_count": null,
   "metadata": {},
   "outputs": [],
   "source": [
    "melt_d_df[\"Date\"] = melt_d_df[\"Date\"].dt.strftime(\"%Y/%m/%d\")\n",
    "melt_d_df"
   ]
  },
  {
   "cell_type": "code",
   "execution_count": null,
   "metadata": {},
   "outputs": [],
   "source": [
    "max_date = melt_d_df[\"Date\"].max()\n",
    "max_date"
   ]
  },
  {
   "cell_type": "code",
   "execution_count": null,
   "metadata": {},
   "outputs": [],
   "source": [
    "total_d_df = melt_d_df[melt_d_df[\"Date\"]==max_date]\n",
    "total_d_df"
   ]
  },
  {
   "cell_type": "code",
   "execution_count": null,
   "metadata": {},
   "outputs": [],
   "source": [
    "total_d = total_d_df[\"Deaths\"].sum()\n",
    "total_d"
   ]
  },
  {
   "cell_type": "code",
   "execution_count": null,
   "metadata": {},
   "outputs": [],
   "source": [
    "figure_d = px.bar(total_d_df,x=\"Country\",y=\"Deaths\")\n",
    "figure_d"
   ]
  },
  {
   "cell_type": "code",
   "execution_count": null,
   "metadata": {},
   "outputs": [],
   "source": [
    "figure_d = px.bar(total_d_df.sort_values(\"Deaths\",ascending=False).head(30),x=\"Country\",y=\"Deaths\",text=\"Deaths\")\n",
    "figure_d"
   ]
  },
  {
   "cell_type": "code",
   "execution_count": null,
   "metadata": {},
   "outputs": [],
   "source": [
    "figure_d = px.line(melt_d_df[melt_d_df[\"Country\"]==\"US\"],x=\"Date\",y = \"Deaths\")\n",
    "figure_d\n",
    "#US Deaths"
   ]
  },
  {
   "cell_type": "code",
   "execution_count": null,
   "metadata": {},
   "outputs": [],
   "source": [
    "figure_d = px.scatter(melt_d_df,x = \"Date\",y = \"Deaths\",color=\"Country\")\n",
    "figure_d"
   ]
  },
  {
   "cell_type": "code",
   "execution_count": null,
   "metadata": {},
   "outputs": [],
   "source": [
    "active = total_c-total_d-total_r\n",
    "active"
   ]
  },
  {
   "cell_type": "markdown",
   "metadata": {},
   "source": [
    "<a id = \"4\"></a><br>\n",
    "# Total"
   ]
  },
  {
   "cell_type": "code",
   "execution_count": null,
   "metadata": {},
   "outputs": [],
   "source": [
    "fig = go.Figure()\n",
    "fig.add_trace(go.Indicator(mode=\"number\",value=int(total_c),number={\"valueformat\":\"0.f\"},\n",
    "             title={\"text\":\"Total_Confirmed\"},domain={\"row\":0,\"column\":0}))\n",
    "\n",
    "fig.add_trace(go.Indicator(mode=\"number\",value=int(total_d),number={\"valueformat\":\"0.f\"},\n",
    "             title={\"text\":\"Total_Deaths\"},domain={\"row\":0,\"column\":1}))\n",
    "\n",
    "fig.add_trace(go.Indicator(mode=\"number\",value=int(total_r),number={\"valueformat\":\"0.f\"},\n",
    "             title={\"text\":\"Total_Recovered\"},domain={\"row\":1,\"column\":0}))\n",
    "\n",
    "fig.add_trace(go.Indicator(mode=\"number\",value=int(active),number={\"valueformat\":\"0.f\"},\n",
    "             title={\"text\":\"Total_Active_Case\"},domain={\"row\":1,\"column\":1}))\n",
    "\n",
    "fig.update_layout(grid={\"rows\":2,\"columns\":2,\"pattern\":\"independent\"})\n",
    "fig.show()"
   ]
  },
  {
   "cell_type": "markdown",
   "metadata": {},
   "source": [
    "<u><h1>Confirmed World Map</h1></u><br>"
   ]
  },
  {
   "cell_type": "code",
   "execution_count": null,
   "metadata": {},
   "outputs": [],
   "source": [
    "#pd.set_option(\"mode.chained_assignment\",None)\n",
    "fig = px.choropleth(total_c_df,locations=\"Country\",locationmode=\"country names\",\n",
    "                    color_continuous_scale=\"dense\",\n",
    "                    color=np.log10(total_c_df[\"Confirmed\"]),range_color=(0,9))\n",
    "fig.show()"
   ]
  },
  {
   "cell_type": "markdown",
   "metadata": {},
   "source": [
    "<u><h1>Daily Confirmed</h1></u><br>"
   ]
  },
  {
   "cell_type": "code",
   "execution_count": null,
   "metadata": {},
   "outputs": [],
   "source": [
    "melt_c_df"
   ]
  },
  {
   "cell_type": "code",
   "execution_count": null,
   "metadata": {},
   "outputs": [],
   "source": [
    "A = melt_c_df.groupby(\"Date\").aggregate(np.sum)\n",
    "A"
   ]
  },
  {
   "cell_type": "code",
   "execution_count": null,
   "metadata": {},
   "outputs": [],
   "source": [
    "A=A.reset_index()\n",
    "A"
   ]
  },
  {
   "cell_type": "code",
   "execution_count": null,
   "metadata": {},
   "outputs": [],
   "source": [
    "A[\"Daily\"] = A[\"Confirmed\"].diff()\n",
    "A"
   ]
  },
  {
   "cell_type": "code",
   "execution_count": null,
   "metadata": {},
   "outputs": [],
   "source": []
  },
  {
   "cell_type": "code",
   "execution_count": null,
   "metadata": {},
   "outputs": [],
   "source": []
  },
  {
   "cell_type": "code",
   "execution_count": null,
   "metadata": {},
   "outputs": [],
   "source": []
  },
  {
   "cell_type": "code",
   "execution_count": null,
   "metadata": {},
   "outputs": [],
   "source": []
  },
  {
   "cell_type": "code",
   "execution_count": null,
   "metadata": {},
   "outputs": [],
   "source": []
  },
  {
   "cell_type": "code",
   "execution_count": null,
   "metadata": {},
   "outputs": [],
   "source": []
  },
  {
   "cell_type": "code",
   "execution_count": null,
   "metadata": {},
   "outputs": [],
   "source": []
  },
  {
   "cell_type": "code",
   "execution_count": null,
   "metadata": {},
   "outputs": [],
   "source": []
  },
  {
   "cell_type": "code",
   "execution_count": null,
   "metadata": {},
   "outputs": [],
   "source": []
  },
  {
   "cell_type": "code",
   "execution_count": null,
   "metadata": {},
   "outputs": [],
   "source": []
  }
 ],
 "metadata": {
  "kernelspec": {
   "display_name": "Python 3",
   "language": "python",
   "name": "python3"
  },
  "language_info": {
   "codemirror_mode": {
    "name": "ipython",
    "version": 3
   },
   "file_extension": ".py",
   "mimetype": "text/x-python",
   "name": "python",
   "nbconvert_exporter": "python",
   "pygments_lexer": "ipython3",
   "version": "3.8.8"
  }
 },
 "nbformat": 4,
 "nbformat_minor": 4
}
