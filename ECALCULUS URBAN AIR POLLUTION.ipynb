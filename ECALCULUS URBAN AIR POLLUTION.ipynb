{
 "cells": [
  {
   "cell_type": "markdown",
   "metadata": {},
   "source": [
    "IMPORT PACKAGES"
   ]
  },
  {
   "cell_type": "code",
   "execution_count": 1,
   "metadata": {
    "collapsed": true
   },
   "outputs": [],
   "source": [
    "import pandas as pd\n",
    "import numpy as np\n",
    "import matplotlib.pyplot as plt\n",
    "import lightgbm as lgb\n",
    "import datetime\n",
    "import gc\n",
    "import xgboost as xgb\n",
    "from sklearn import preprocessing\n",
    "from matplotlib import pyplot as plt\n",
    "from sklearn.metrics import mean_squared_error\n",
    "\n",
    "from sklearn.decomposition import PCA\n",
    "from sklearn.preprocessing import LabelEncoder\n",
    "import pickle"
   ]
  },
  {
   "cell_type": "code",
   "execution_count": 2,
   "metadata": {
    "collapsed": true
   },
   "outputs": [],
   "source": [
    "train = pd.read_csv('./Downloads/Train (2).csv')\n",
    "test = pd.read_csv('./Downloads/Test (2).csv')"
   ]
  },
  {
   "cell_type": "markdown",
   "metadata": {},
   "source": [
    "GENERATING NEW FEATURES FOR FUTURE DAYS"
   ]
  },
  {
   "cell_type": "code",
   "execution_count": 3,
   "metadata": {
    "collapsed": true
   },
   "outputs": [],
   "source": [
    "empty_list = ['temperature_2m_above_ground','precipitable_water_entire_atmosphere']\n",
    "\n",
    "\n",
    "for i in empty_list:\n",
    "    train[i+'_new_'+str(2)] = train[i].shift(periods = 2)\n",
    "    train[i+'_new_'+str(3)] = train[i].shift(periods = 3)\n",
    "    train[i+'_new_'+str(4)] = train[i].shift(periods = 4)\n",
    "    test[i+'_new_'+str(2)] = test[i].shift(periods = 2)\n",
    "    test[i+'_new_'+str(3)] = test[i].shift(periods = 3)\n",
    "    test[i+'_new_'+str(4)] = test[i].shift(periods = 4)\n",
    "    "
   ]
  },
  {
   "cell_type": "code",
   "execution_count": 4,
   "metadata": {
    "collapsed": true
   },
   "outputs": [],
   "source": [
    "features_corr_ = ['L3_NO2_NO2_column_number_density','L3_O3_O3_column_number_density','L3_HCHO_tropospheric_HCHO_column_number_density','L3_CO_CO_column_number_density','L3_CLOUD_surface_albedo','L3_CLOUD_cloud_optical_depth']\n",
    "\n",
    "for i in features_corr_:\n",
    "    train[i+'_new_'+str(2)] = train[i].shift(periods = 2)\n",
    "    train[i+'_new_'+str(3)] = train[i].shift(periods = 3)\n",
    "    test[i+'_new_'+str(2)] = test[i].shift(periods = 2)\n",
    "    test[i+'_new_'+str(3)] = test[i].shift(periods = 3)"
   ]
  },
  {
   "cell_type": "code",
   "execution_count": 5,
   "metadata": {},
   "outputs": [
    {
     "name": "stdout",
     "output_type": "stream",
     "text": [
      "<class 'pandas.core.frame.DataFrame'>\n",
      "RangeIndex: 30557 entries, 0 to 30556\n",
      "Data columns (total 100 columns):\n",
      " #   Column                                                 Non-Null Count  Dtype  \n",
      "---  ------                                                 --------------  -----  \n",
      " 0   Place_ID X Date                                        30557 non-null  object \n",
      " 1   Date                                                   30557 non-null  object \n",
      " 2   Place_ID                                               30557 non-null  object \n",
      " 3   target                                                 30557 non-null  float64\n",
      " 4   target_min                                             30557 non-null  float64\n",
      " 5   target_max                                             30557 non-null  float64\n",
      " 6   target_variance                                        30557 non-null  float64\n",
      " 7   target_count                                           30557 non-null  int64  \n",
      " 8   precipitable_water_entire_atmosphere                   30557 non-null  float64\n",
      " 9   relative_humidity_2m_above_ground                      30557 non-null  float64\n",
      " 10  specific_humidity_2m_above_ground                      30557 non-null  float64\n",
      " 11  temperature_2m_above_ground                            30557 non-null  float64\n",
      " 12  u_component_of_wind_10m_above_ground                   30557 non-null  float64\n",
      " 13  v_component_of_wind_10m_above_ground                   30557 non-null  float64\n",
      " 14  L3_NO2_NO2_column_number_density                       28368 non-null  float64\n",
      " 15  L3_NO2_NO2_slant_column_number_density                 28368 non-null  float64\n",
      " 16  L3_NO2_absorbing_aerosol_index                         28368 non-null  float64\n",
      " 17  L3_NO2_cloud_fraction                                  28368 non-null  float64\n",
      " 18  L3_NO2_sensor_altitude                                 28368 non-null  float64\n",
      " 19  L3_NO2_sensor_azimuth_angle                            28367 non-null  float64\n",
      " 20  L3_NO2_sensor_zenith_angle                             28367 non-null  float64\n",
      " 21  L3_NO2_solar_azimuth_angle                             28367 non-null  float64\n",
      " 22  L3_NO2_solar_zenith_angle                              28367 non-null  float64\n",
      " 23  L3_NO2_stratospheric_NO2_column_number_density         28367 non-null  float64\n",
      " 24  L3_NO2_tropopause_pressure                             28367 non-null  float64\n",
      " 25  L3_NO2_tropospheric_NO2_column_number_density          21888 non-null  float64\n",
      " 26  L3_O3_O3_column_number_density                         30274 non-null  float64\n",
      " 27  L3_O3_O3_effective_temperature                         30274 non-null  float64\n",
      " 28  L3_O3_cloud_fraction                                   30274 non-null  float64\n",
      " 29  L3_O3_sensor_azimuth_angle                             30274 non-null  float64\n",
      " 30  L3_O3_sensor_zenith_angle                              30274 non-null  float64\n",
      " 31  L3_O3_solar_azimuth_angle                              30274 non-null  float64\n",
      " 32  L3_O3_solar_zenith_angle                               30274 non-null  float64\n",
      " 33  L3_CO_CO_column_number_density                         25134 non-null  float64\n",
      " 34  L3_CO_H2O_column_number_density                        25134 non-null  float64\n",
      " 35  L3_CO_cloud_height                                     25134 non-null  float64\n",
      " 36  L3_CO_sensor_altitude                                  25134 non-null  float64\n",
      " 37  L3_CO_sensor_azimuth_angle                             25134 non-null  float64\n",
      " 38  L3_CO_sensor_zenith_angle                              25134 non-null  float64\n",
      " 39  L3_CO_solar_azimuth_angle                              25134 non-null  float64\n",
      " 40  L3_CO_solar_zenith_angle                               25134 non-null  float64\n",
      " 41  L3_HCHO_HCHO_slant_column_number_density               23132 non-null  float64\n",
      " 42  L3_HCHO_cloud_fraction                                 23132 non-null  float64\n",
      " 43  L3_HCHO_sensor_azimuth_angle                           23132 non-null  float64\n",
      " 44  L3_HCHO_sensor_zenith_angle                            23132 non-null  float64\n",
      " 45  L3_HCHO_solar_azimuth_angle                            23132 non-null  float64\n",
      " 46  L3_HCHO_solar_zenith_angle                             23132 non-null  float64\n",
      " 47  L3_HCHO_tropospheric_HCHO_column_number_density        23132 non-null  float64\n",
      " 48  L3_HCHO_tropospheric_HCHO_column_number_density_amf    23132 non-null  float64\n",
      " 49  L3_CLOUD_cloud_base_height                             29035 non-null  float64\n",
      " 50  L3_CLOUD_cloud_base_pressure                           29035 non-null  float64\n",
      " 51  L3_CLOUD_cloud_fraction                                30183 non-null  float64\n",
      " 52  L3_CLOUD_cloud_optical_depth                           29035 non-null  float64\n",
      " 53  L3_CLOUD_cloud_top_height                              29035 non-null  float64\n",
      " 54  L3_CLOUD_cloud_top_pressure                            29035 non-null  float64\n",
      " 55  L3_CLOUD_sensor_azimuth_angle                          30183 non-null  float64\n",
      " 56  L3_CLOUD_sensor_zenith_angle                           30183 non-null  float64\n",
      " 57  L3_CLOUD_solar_azimuth_angle                           30183 non-null  float64\n",
      " 58  L3_CLOUD_solar_zenith_angle                            30183 non-null  float64\n",
      " 59  L3_CLOUD_surface_albedo                                29035 non-null  float64\n",
      " 60  L3_AER_AI_absorbing_aerosol_index                      30360 non-null  float64\n",
      " 61  L3_AER_AI_sensor_altitude                              30360 non-null  float64\n",
      " 62  L3_AER_AI_sensor_azimuth_angle                         30360 non-null  float64\n",
      " 63  L3_AER_AI_sensor_zenith_angle                          30360 non-null  float64\n",
      " 64  L3_AER_AI_solar_azimuth_angle                          30360 non-null  float64\n",
      " 65  L3_AER_AI_solar_zenith_angle                           30360 non-null  float64\n",
      " 66  L3_SO2_SO2_column_number_density                       23320 non-null  float64\n",
      " 67  L3_SO2_SO2_column_number_density_amf                   23320 non-null  float64\n",
      " 68  L3_SO2_SO2_slant_column_number_density                 23320 non-null  float64\n",
      " 69  L3_SO2_absorbing_aerosol_index                         23249 non-null  float64\n",
      " 70  L3_SO2_cloud_fraction                                  23320 non-null  float64\n",
      " 71  L3_SO2_sensor_azimuth_angle                            23320 non-null  float64\n",
      " 72  L3_SO2_sensor_zenith_angle                             23320 non-null  float64\n",
      " 73  L3_SO2_solar_azimuth_angle                             23320 non-null  float64\n",
      " 74  L3_SO2_solar_zenith_angle                              23320 non-null  float64\n",
      " 75  L3_CH4_CH4_column_volume_mixing_ratio_dry_air          5792 non-null   float64\n",
      " 76  L3_CH4_aerosol_height                                  5792 non-null   float64\n",
      " 77  L3_CH4_aerosol_optical_depth                           5792 non-null   float64\n",
      " 78  L3_CH4_sensor_azimuth_angle                            5792 non-null   float64\n",
      " 79  L3_CH4_sensor_zenith_angle                             5792 non-null   float64\n",
      " 80  L3_CH4_solar_azimuth_angle                             5792 non-null   float64\n",
      " 81  L3_CH4_solar_zenith_angle                              5792 non-null   float64\n",
      " 82  temperature_2m_above_ground_new_2                      30555 non-null  float64\n",
      " 83  temperature_2m_above_ground_new_3                      30554 non-null  float64\n",
      " 84  temperature_2m_above_ground_new_4                      30553 non-null  float64\n",
      " 85  precipitable_water_entire_atmosphere_new_2             30555 non-null  float64\n",
      " 86  precipitable_water_entire_atmosphere_new_3             30554 non-null  float64\n",
      " 87  precipitable_water_entire_atmosphere_new_4             30553 non-null  float64\n",
      " 88  L3_NO2_NO2_column_number_density_new_2                 28366 non-null  float64\n",
      " 89  L3_NO2_NO2_column_number_density_new_3                 28365 non-null  float64\n",
      " 90  L3_O3_O3_column_number_density_new_2                   30273 non-null  float64\n",
      " 91  L3_O3_O3_column_number_density_new_3                   30272 non-null  float64\n",
      " 92  L3_HCHO_tropospheric_HCHO_column_number_density_new_2  23131 non-null  float64\n",
      " 93  L3_HCHO_tropospheric_HCHO_column_number_density_new_3  23130 non-null  float64\n",
      " 94  L3_CO_CO_column_number_density_new_2                   25133 non-null  float64\n",
      " 95  L3_CO_CO_column_number_density_new_3                   25132 non-null  float64\n",
      " 96  L3_CLOUD_surface_albedo_new_2                          29034 non-null  float64\n",
      " 97  L3_CLOUD_surface_albedo_new_3                          29033 non-null  float64\n",
      " 98  L3_CLOUD_cloud_optical_depth_new_2                     29034 non-null  float64\n",
      " 99  L3_CLOUD_cloud_optical_depth_new_3                     29033 non-null  float64\n",
      "dtypes: float64(96), int64(1), object(3)\n",
      "memory usage: 23.3+ MB\n"
     ]
    }
   ],
   "source": [
    "train.info()"
   ]
  },
  {
   "cell_type": "code",
   "execution_count": null,
   "metadata": {
    "collapsed": true
   },
   "outputs": [],
   "source": [
    "USING PREVIOUS DATA"
   ]
  },
  {
   "cell_type": "code",
   "execution_count": 6,
   "metadata": {
    "collapsed": true
   },
   "outputs": [],
   "source": [
    "def func(df,list_,k):\n",
    "    y_day = [np.NaN]\n",
    "    s = df[list_[k]][0:len(df) - 1]\n",
    "    for i in s:                      \n",
    "        y_day.append(i)             \n",
    "    df[list_[k] + '_yday_'] = y_day"
   ]
  },
  {
   "cell_type": "code",
   "execution_count": 7,
   "metadata": {
    "collapsed": true
   },
   "outputs": [],
   "source": [
    "def func1(df1,list1_,k):\n",
    "    y_day2 = [np.NaN]\n",
    "    s1 = df1[list1_[k]][0:len(df1) - 1]\n",
    "    for j in s1:\n",
    "        y_day2.append(j)\n",
    "    df1[list1_[k] + '_yday_'] = y_day2"
   ]
  },
  {
   "cell_type": "code",
   "execution_count": null,
   "metadata": {
    "collapsed": true
   },
   "outputs": [],
   "source": []
  },
  {
   "cell_type": "code",
   "execution_count": 8,
   "metadata": {
    "collapsed": true
   },
   "outputs": [],
   "source": [
    "emma_ = ['precipitable_water_entire_atmosphere','temperature_2m_above_ground','relative_humidity_2m_above_ground']"
   ]
  },
  {
   "cell_type": "code",
   "execution_count": 9,
   "metadata": {},
   "outputs": [
    {
     "data": {
      "text/plain": [
       "(None, None)"
      ]
     },
     "execution_count": 9,
     "metadata": {},
     "output_type": "execute_result"
    }
   ],
   "source": [
    "func(train,emma_,0), func1(test,emma_,0)"
   ]
  },
  {
   "cell_type": "code",
   "execution_count": 10,
   "metadata": {},
   "outputs": [
    {
     "data": {
      "text/plain": [
       "(None, None)"
      ]
     },
     "execution_count": 10,
     "metadata": {},
     "output_type": "execute_result"
    }
   ],
   "source": [
    "func(train,emma_,1), func1(test,emma_,1)"
   ]
  },
  {
   "cell_type": "code",
   "execution_count": 11,
   "metadata": {},
   "outputs": [
    {
     "data": {
      "text/plain": [
       "(None, None)"
      ]
     },
     "execution_count": 11,
     "metadata": {},
     "output_type": "execute_result"
    }
   ],
   "source": [
    "func(train,emma_,2), func1(test,emma_,2)"
   ]
  },
  {
   "cell_type": "code",
   "execution_count": 12,
   "metadata": {},
   "outputs": [
    {
     "data": {
      "text/html": [
       "<div>\n",
       "<style scoped>\n",
       "    .dataframe tbody tr th:only-of-type {\n",
       "        vertical-align: middle;\n",
       "    }\n",
       "\n",
       "    .dataframe tbody tr th {\n",
       "        vertical-align: top;\n",
       "    }\n",
       "\n",
       "    .dataframe thead th {\n",
       "        text-align: right;\n",
       "    }\n",
       "</style>\n",
       "<table border=\"1\" class=\"dataframe\">\n",
       "  <thead>\n",
       "    <tr style=\"text-align: right;\">\n",
       "      <th></th>\n",
       "      <th>Place_ID X Date</th>\n",
       "      <th>Date</th>\n",
       "      <th>Place_ID</th>\n",
       "      <th>target</th>\n",
       "      <th>target_min</th>\n",
       "      <th>target_max</th>\n",
       "      <th>target_variance</th>\n",
       "      <th>target_count</th>\n",
       "      <th>precipitable_water_entire_atmosphere</th>\n",
       "      <th>relative_humidity_2m_above_ground</th>\n",
       "      <th>...</th>\n",
       "      <th>L3_HCHO_tropospheric_HCHO_column_number_density_new_3</th>\n",
       "      <th>L3_CO_CO_column_number_density_new_2</th>\n",
       "      <th>L3_CO_CO_column_number_density_new_3</th>\n",
       "      <th>L3_CLOUD_surface_albedo_new_2</th>\n",
       "      <th>L3_CLOUD_surface_albedo_new_3</th>\n",
       "      <th>L3_CLOUD_cloud_optical_depth_new_2</th>\n",
       "      <th>L3_CLOUD_cloud_optical_depth_new_3</th>\n",
       "      <th>precipitable_water_entire_atmosphere_yday_</th>\n",
       "      <th>temperature_2m_above_ground_yday_</th>\n",
       "      <th>relative_humidity_2m_above_ground_yday_</th>\n",
       "    </tr>\n",
       "  </thead>\n",
       "  <tbody>\n",
       "    <tr>\n",
       "      <th>0</th>\n",
       "      <td>010Q650 X 2020-01-02</td>\n",
       "      <td>2020-01-02</td>\n",
       "      <td>010Q650</td>\n",
       "      <td>38.0</td>\n",
       "      <td>23.0</td>\n",
       "      <td>53.0</td>\n",
       "      <td>769.50</td>\n",
       "      <td>92</td>\n",
       "      <td>11.000000</td>\n",
       "      <td>60.200001</td>\n",
       "      <td>...</td>\n",
       "      <td>NaN</td>\n",
       "      <td>NaN</td>\n",
       "      <td>NaN</td>\n",
       "      <td>NaN</td>\n",
       "      <td>NaN</td>\n",
       "      <td>NaN</td>\n",
       "      <td>NaN</td>\n",
       "      <td>NaN</td>\n",
       "      <td>NaN</td>\n",
       "      <td>NaN</td>\n",
       "    </tr>\n",
       "    <tr>\n",
       "      <th>1</th>\n",
       "      <td>010Q650 X 2020-01-03</td>\n",
       "      <td>2020-01-03</td>\n",
       "      <td>010Q650</td>\n",
       "      <td>39.0</td>\n",
       "      <td>25.0</td>\n",
       "      <td>63.0</td>\n",
       "      <td>1319.85</td>\n",
       "      <td>91</td>\n",
       "      <td>14.600000</td>\n",
       "      <td>48.799999</td>\n",
       "      <td>...</td>\n",
       "      <td>NaN</td>\n",
       "      <td>NaN</td>\n",
       "      <td>NaN</td>\n",
       "      <td>NaN</td>\n",
       "      <td>NaN</td>\n",
       "      <td>NaN</td>\n",
       "      <td>NaN</td>\n",
       "      <td>11.000000</td>\n",
       "      <td>18.516840</td>\n",
       "      <td>60.200001</td>\n",
       "    </tr>\n",
       "    <tr>\n",
       "      <th>2</th>\n",
       "      <td>010Q650 X 2020-01-04</td>\n",
       "      <td>2020-01-04</td>\n",
       "      <td>010Q650</td>\n",
       "      <td>24.0</td>\n",
       "      <td>8.0</td>\n",
       "      <td>56.0</td>\n",
       "      <td>1181.96</td>\n",
       "      <td>96</td>\n",
       "      <td>16.400000</td>\n",
       "      <td>33.400002</td>\n",
       "      <td>...</td>\n",
       "      <td>NaN</td>\n",
       "      <td>0.021080</td>\n",
       "      <td>NaN</td>\n",
       "      <td>NaN</td>\n",
       "      <td>NaN</td>\n",
       "      <td>NaN</td>\n",
       "      <td>NaN</td>\n",
       "      <td>14.600000</td>\n",
       "      <td>22.546533</td>\n",
       "      <td>48.799999</td>\n",
       "    </tr>\n",
       "    <tr>\n",
       "      <th>3</th>\n",
       "      <td>010Q650 X 2020-01-05</td>\n",
       "      <td>2020-01-05</td>\n",
       "      <td>010Q650</td>\n",
       "      <td>49.0</td>\n",
       "      <td>10.0</td>\n",
       "      <td>55.0</td>\n",
       "      <td>1113.67</td>\n",
       "      <td>96</td>\n",
       "      <td>6.911948</td>\n",
       "      <td>21.300001</td>\n",
       "      <td>...</td>\n",
       "      <td>0.000064</td>\n",
       "      <td>0.022017</td>\n",
       "      <td>0.021080</td>\n",
       "      <td>0.315403</td>\n",
       "      <td>NaN</td>\n",
       "      <td>5.958538</td>\n",
       "      <td>NaN</td>\n",
       "      <td>16.400000</td>\n",
       "      <td>27.031030</td>\n",
       "      <td>33.400002</td>\n",
       "    </tr>\n",
       "    <tr>\n",
       "      <th>4</th>\n",
       "      <td>010Q650 X 2020-01-06</td>\n",
       "      <td>2020-01-06</td>\n",
       "      <td>010Q650</td>\n",
       "      <td>21.0</td>\n",
       "      <td>9.0</td>\n",
       "      <td>52.0</td>\n",
       "      <td>1164.82</td>\n",
       "      <td>95</td>\n",
       "      <td>13.900001</td>\n",
       "      <td>44.700001</td>\n",
       "      <td>...</td>\n",
       "      <td>0.000171</td>\n",
       "      <td>0.020677</td>\n",
       "      <td>0.022017</td>\n",
       "      <td>0.307463</td>\n",
       "      <td>0.315403</td>\n",
       "      <td>5.755760</td>\n",
       "      <td>5.958538</td>\n",
       "      <td>6.911948</td>\n",
       "      <td>23.971857</td>\n",
       "      <td>21.300001</td>\n",
       "    </tr>\n",
       "  </tbody>\n",
       "</table>\n",
       "<p>5 rows × 103 columns</p>\n",
       "</div>"
      ],
      "text/plain": [
       "        Place_ID X Date        Date Place_ID  target  target_min  target_max  \\\n",
       "0  010Q650 X 2020-01-02  2020-01-02  010Q650    38.0        23.0        53.0   \n",
       "1  010Q650 X 2020-01-03  2020-01-03  010Q650    39.0        25.0        63.0   \n",
       "2  010Q650 X 2020-01-04  2020-01-04  010Q650    24.0         8.0        56.0   \n",
       "3  010Q650 X 2020-01-05  2020-01-05  010Q650    49.0        10.0        55.0   \n",
       "4  010Q650 X 2020-01-06  2020-01-06  010Q650    21.0         9.0        52.0   \n",
       "\n",
       "   target_variance  target_count  precipitable_water_entire_atmosphere  \\\n",
       "0           769.50            92                             11.000000   \n",
       "1          1319.85            91                             14.600000   \n",
       "2          1181.96            96                             16.400000   \n",
       "3          1113.67            96                              6.911948   \n",
       "4          1164.82            95                             13.900001   \n",
       "\n",
       "   relative_humidity_2m_above_ground  ...  \\\n",
       "0                          60.200001  ...   \n",
       "1                          48.799999  ...   \n",
       "2                          33.400002  ...   \n",
       "3                          21.300001  ...   \n",
       "4                          44.700001  ...   \n",
       "\n",
       "   L3_HCHO_tropospheric_HCHO_column_number_density_new_3  \\\n",
       "0                                                NaN       \n",
       "1                                                NaN       \n",
       "2                                                NaN       \n",
       "3                                           0.000064       \n",
       "4                                           0.000171       \n",
       "\n",
       "   L3_CO_CO_column_number_density_new_2  L3_CO_CO_column_number_density_new_3  \\\n",
       "0                                   NaN                                   NaN   \n",
       "1                                   NaN                                   NaN   \n",
       "2                              0.021080                                   NaN   \n",
       "3                              0.022017                              0.021080   \n",
       "4                              0.020677                              0.022017   \n",
       "\n",
       "   L3_CLOUD_surface_albedo_new_2  L3_CLOUD_surface_albedo_new_3  \\\n",
       "0                            NaN                            NaN   \n",
       "1                            NaN                            NaN   \n",
       "2                            NaN                            NaN   \n",
       "3                       0.315403                            NaN   \n",
       "4                       0.307463                       0.315403   \n",
       "\n",
       "   L3_CLOUD_cloud_optical_depth_new_2  L3_CLOUD_cloud_optical_depth_new_3  \\\n",
       "0                                 NaN                                 NaN   \n",
       "1                                 NaN                                 NaN   \n",
       "2                                 NaN                                 NaN   \n",
       "3                            5.958538                                 NaN   \n",
       "4                            5.755760                            5.958538   \n",
       "\n",
       "   precipitable_water_entire_atmosphere_yday_  \\\n",
       "0                                         NaN   \n",
       "1                                   11.000000   \n",
       "2                                   14.600000   \n",
       "3                                   16.400000   \n",
       "4                                    6.911948   \n",
       "\n",
       "   temperature_2m_above_ground_yday_  relative_humidity_2m_above_ground_yday_  \n",
       "0                                NaN                                      NaN  \n",
       "1                          18.516840                                60.200001  \n",
       "2                          22.546533                                48.799999  \n",
       "3                          27.031030                                33.400002  \n",
       "4                          23.971857                                21.300001  \n",
       "\n",
       "[5 rows x 103 columns]"
      ]
     },
     "execution_count": 12,
     "metadata": {},
     "output_type": "execute_result"
    }
   ],
   "source": [
    "train.head()"
   ]
  },
  {
   "cell_type": "code",
   "execution_count": 13,
   "metadata": {},
   "outputs": [
    {
     "name": "stderr",
     "output_type": "stream",
     "text": [
      "C:\\Users\\E-calculus\\AppData\\Local\\conda\\conda\\envs\\my_root\\lib\\site-packages\\ipykernel_launcher.py:3: SettingWithCopyWarning: \n",
      "A value is trying to be set on a copy of a slice from a DataFrame\n",
      "\n",
      "See the caveats in the documentation: https://pandas.pydata.org/pandas-docs/stable/user_guide/indexing.html#returning-a-view-versus-a-copy\n",
      "  This is separate from the ipykernel package so we can avoid doing imports until\n",
      "C:\\Users\\E-calculus\\AppData\\Local\\conda\\conda\\envs\\my_root\\lib\\site-packages\\ipykernel_launcher.py:6: SettingWithCopyWarning: \n",
      "A value is trying to be set on a copy of a slice from a DataFrame\n",
      "\n",
      "See the caveats in the documentation: https://pandas.pydata.org/pandas-docs/stable/user_guide/indexing.html#returning-a-view-versus-a-copy\n",
      "  \n"
     ]
    }
   ],
   "source": [
    "for num in range(len(test)):\n",
    "    if num%94 == 0:\n",
    "        test['precipitable_water_entire_atmosphere_yday_'][num] = np.NaN\n",
    "for num in range(len(train)):\n",
    "    if num%94 == 0:\n",
    "        train['precipitable_water_entire_atmosphere_yday_'][num] = np.NaN"
   ]
  },
  {
   "cell_type": "code",
   "execution_count": 14,
   "metadata": {},
   "outputs": [
    {
     "name": "stderr",
     "output_type": "stream",
     "text": [
      "C:\\Users\\E-calculus\\AppData\\Local\\conda\\conda\\envs\\my_root\\lib\\site-packages\\ipykernel_launcher.py:3: SettingWithCopyWarning: \n",
      "A value is trying to be set on a copy of a slice from a DataFrame\n",
      "\n",
      "See the caveats in the documentation: https://pandas.pydata.org/pandas-docs/stable/user_guide/indexing.html#returning-a-view-versus-a-copy\n",
      "  This is separate from the ipykernel package so we can avoid doing imports until\n",
      "C:\\Users\\E-calculus\\AppData\\Local\\conda\\conda\\envs\\my_root\\lib\\site-packages\\ipykernel_launcher.py:6: SettingWithCopyWarning: \n",
      "A value is trying to be set on a copy of a slice from a DataFrame\n",
      "\n",
      "See the caveats in the documentation: https://pandas.pydata.org/pandas-docs/stable/user_guide/indexing.html#returning-a-view-versus-a-copy\n",
      "  \n"
     ]
    }
   ],
   "source": [
    "for num in range(len(test)):\n",
    "    if num%94 == 0:\n",
    "        test['temperature_2m_above_ground_yday_'][num] = np.NaN\n",
    "for num in range(len(train)):\n",
    "    if num%94 == 0:\n",
    "        train['temperature_2m_above_ground_yday_'][num] = np.NaN"
   ]
  },
  {
   "cell_type": "code",
   "execution_count": 15,
   "metadata": {},
   "outputs": [
    {
     "name": "stderr",
     "output_type": "stream",
     "text": [
      "C:\\Users\\E-calculus\\AppData\\Local\\conda\\conda\\envs\\my_root\\lib\\site-packages\\ipykernel_launcher.py:3: SettingWithCopyWarning: \n",
      "A value is trying to be set on a copy of a slice from a DataFrame\n",
      "\n",
      "See the caveats in the documentation: https://pandas.pydata.org/pandas-docs/stable/user_guide/indexing.html#returning-a-view-versus-a-copy\n",
      "  This is separate from the ipykernel package so we can avoid doing imports until\n",
      "C:\\Users\\E-calculus\\AppData\\Local\\conda\\conda\\envs\\my_root\\lib\\site-packages\\ipykernel_launcher.py:6: SettingWithCopyWarning: \n",
      "A value is trying to be set on a copy of a slice from a DataFrame\n",
      "\n",
      "See the caveats in the documentation: https://pandas.pydata.org/pandas-docs/stable/user_guide/indexing.html#returning-a-view-versus-a-copy\n",
      "  \n"
     ]
    }
   ],
   "source": [
    "for num in range(len(test)):\n",
    "    if num%94 == 0:\n",
    "        test['relative_humidity_2m_above_ground_yday_'][num] = np.NaN\n",
    "for num in range(len(train)):\n",
    "    if num%94 == 0:\n",
    "        train['relative_humidity_2m_above_ground_yday_'][num] = np.NaN"
   ]
  },
  {
   "cell_type": "code",
   "execution_count": 16,
   "metadata": {
    "collapsed": true
   },
   "outputs": [],
   "source": [
    "train.drop(['L3_HCHO_sensor_azimuth_angle','L3_HCHO_sensor_zenith_angle','L3_HCHO_solar_azimuth_angle','L3_HCHO_solar_zenith_angle','L3_CO_sensor_zenith_angle','L3_CO_solar_zenith_angle','L3_SO2_sensor_azimuth_angle','L3_SO2_sensor_zenith_angle','L3_SO2_solar_azimuth_angle','L3_SO2_solar_zenith_angle'], axis = 1, inplace = True)"
   ]
  },
  {
   "cell_type": "code",
   "execution_count": 17,
   "metadata": {
    "collapsed": true
   },
   "outputs": [],
   "source": [
    "test.drop(['L3_HCHO_sensor_azimuth_angle','L3_HCHO_sensor_zenith_angle','L3_HCHO_solar_azimuth_angle','L3_HCHO_solar_zenith_angle','L3_CO_sensor_zenith_angle','L3_CO_solar_zenith_angle','L3_SO2_sensor_azimuth_angle','L3_SO2_sensor_zenith_angle','L3_SO2_solar_azimuth_angle','L3_SO2_solar_zenith_angle'], axis = 1, inplace = True)"
   ]
  },
  {
   "cell_type": "code",
   "execution_count": 18,
   "metadata": {
    "collapsed": true
   },
   "outputs": [],
   "source": [
    "def drop_columns(data_, data_row_):\n",
    "    col = []\n",
    "    pct_ = 0.7\n",
    "    for i in data_:\n",
    "        if data_[i].isnull().sum() >= (pct_ * data_row_):\n",
    "            col.append(i)\n",
    "    return col"
   ]
  },
  {
   "cell_type": "code",
   "execution_count": 19,
   "metadata": {},
   "outputs": [
    {
     "name": "stdout",
     "output_type": "stream",
     "text": [
      "7 ['L3_CH4_CH4_column_volume_mixing_ratio_dry_air', 'L3_CH4_aerosol_height', 'L3_CH4_aerosol_optical_depth', 'L3_CH4_sensor_azimuth_angle', 'L3_CH4_sensor_zenith_angle', 'L3_CH4_solar_azimuth_angle', 'L3_CH4_solar_zenith_angle']\n"
     ]
    }
   ],
   "source": [
    "print(len(drop_columns(train,30557)),drop_columns(train,30557))"
   ]
  },
  {
   "cell_type": "code",
   "execution_count": 20,
   "metadata": {},
   "outputs": [
    {
     "name": "stdout",
     "output_type": "stream",
     "text": [
      "7 ['L3_CH4_CH4_column_volume_mixing_ratio_dry_air', 'L3_CH4_aerosol_height', 'L3_CH4_aerosol_optical_depth', 'L3_CH4_sensor_azimuth_angle', 'L3_CH4_sensor_zenith_angle', 'L3_CH4_solar_azimuth_angle', 'L3_CH4_solar_zenith_angle']\n"
     ]
    }
   ],
   "source": [
    "print(len(drop_columns(test,16136)),drop_columns(test,16136))"
   ]
  },
  {
   "cell_type": "code",
   "execution_count": 21,
   "metadata": {
    "collapsed": true
   },
   "outputs": [],
   "source": [
    "train.drop(drop_columns(train,30557),axis = 1, inplace = True)\n",
    "test.drop(drop_columns(test,16136),axis = 1, inplace = True)"
   ]
  },
  {
   "cell_type": "code",
   "execution_count": 22,
   "metadata": {
    "collapsed": true
   },
   "outputs": [],
   "source": [
    "train['Date'] = pd.to_datetime(train['Date'])\n",
    "test['Date'] = pd.to_datetime(test['Date'])"
   ]
  },
  {
   "cell_type": "code",
   "execution_count": 38,
   "metadata": {},
   "outputs": [
    {
     "name": "stderr",
     "output_type": "stream",
     "text": [
      "C:\\Users\\E-calculus\\AppData\\Local\\conda\\conda\\envs\\my_root\\lib\\site-packages\\ipykernel_launcher.py:24: SettingWithCopyWarning: \n",
      "A value is trying to be set on a copy of a slice from a DataFrame\n",
      "\n",
      "See the caveats in the documentation: https://pandas.pydata.org/pandas-docs/stable/user_guide/indexing.html#returning-a-view-versus-a-copy\n",
      "C:\\Users\\E-calculus\\AppData\\Local\\conda\\conda\\envs\\my_root\\lib\\site-packages\\ipykernel_launcher.py:25: SettingWithCopyWarning: \n",
      "A value is trying to be set on a copy of a slice from a DataFrame\n",
      "\n",
      "See the caveats in the documentation: https://pandas.pydata.org/pandas-docs/stable/user_guide/indexing.html#returning-a-view-versus-a-copy\n",
      "C:\\Users\\E-calculus\\AppData\\Local\\conda\\conda\\envs\\my_root\\lib\\site-packages\\ipykernel_launcher.py:27: SettingWithCopyWarning: \n",
      "A value is trying to be set on a copy of a slice from a DataFrame\n",
      "\n",
      "See the caveats in the documentation: https://pandas.pydata.org/pandas-docs/stable/user_guide/indexing.html#returning-a-view-versus-a-copy\n"
     ]
    }
   ],
   "source": [
    "train[\"Date\"] = pd.to_datetime(train['Date'])\n",
    "test[\"Date\"] = pd.to_datetime(test['Date'])\n",
    "\n",
    "def func3(row):\n",
    "    if row.dayofweek == 5 or row.dayofweek == 6:\n",
    "        return 1\n",
    "    else:\n",
    "        return 0 \n",
    "\n",
    "\n",
    "\n",
    "\n",
    "\n",
    "\n",
    "def date_(df):\n",
    "      \n",
    "   df['Week days']=df['Date'].dt.dayofweek\n",
    "   df['Weekend'] = df['Date'].apply(func3)\n",
    "   df['month']=0\n",
    "   df['day']=0\n",
    "   df['winter']=0\n",
    "   for i in range(len(df)):  \n",
    "           \n",
    "           df['month'][i]=df['Date'][i].month \n",
    "           df['day'][i]=df['Date'][i].day\n",
    "           if (df['month'][i]==1 or df['month'][i]==2 ):\n",
    "             df['winter'][i]=1\n",
    "\n",
    "date_(train)\n",
    "date_(test)"
   ]
  },
  {
   "cell_type": "code",
   "execution_count": null,
   "metadata": {
    "collapsed": true
   },
   "outputs": [],
   "source": [
    "train[\"Date\"] = pd.to_datetime(train['Date'])\n",
    "test[\"Date\"] = pd.to_datetime(test['Date'])\n",
    "\n",
    "def func3(row):\n",
    "    if row.dayofweek == 5 or row.dayofweek == 6:\n",
    "        return 1\n",
    "    else:\n",
    "        return 0 \n",
    "\n",
    "def date_split_(df):\n",
    "    df['Week days'] = df['Date'].dt.dayofweek\n",
    "    df['Week days'] = df['Date'].apply(func3)\n",
    "    df['month'] = 0\n",
    "    df['day'] = 0\n",
    "    df['Winter'] = 0\n",
    "    for i in range(len(df)):\n",
    "        df['month'][i]=df['Date'][i].month\n",
    "        df['day'][i]=df['Date'][i].day\n",
    "        if (df['month'][i]==1 or df['month'][i]==2 )\n",
    "            df['winter'][i]=1\n",
    "date_split_(train)\n",
    "date_split_(test)\n"
   ]
  },
  {
   "cell_type": "code",
   "execution_count": null,
   "metadata": {
    "collapsed": true
   },
   "outputs": [],
   "source": [
    "train=train.fillna(method='ffill')\n",
    "train=train.fillna(train.mean())\n",
    "test=test.fillna(method ='ffill')\n",
    "test=test.fillna(test.mean())"
   ]
  },
  {
   "cell_type": "code",
   "execution_count": null,
   "metadata": {
    "collapsed": true
   },
   "outputs": [],
   "source": [
    "def func4(df):\n",
    "    temperature_mean = pd.DataFrame(df.groupby(['Place_ID','month'])['temperature_2m_above_ground'].mean())\n",
    "    df['mean_temperature_per_month']=0\n",
    "    for i in range(len(df))\n",
    "        df['mean_temperature_per_month'][i] = temperature_mean.loc[(df['Place_ID'][i], df['month'][i]),:]"
   ]
  },
  {
   "cell_type": "code",
   "execution_count": null,
   "metadata": {
    "collapsed": true
   },
   "outputs": [],
   "source": [
    "func4(train), func4(test)"
   ]
  },
  {
   "cell_type": "code",
   "execution_count": null,
   "metadata": {
    "collapsed": true
   },
   "outputs": [],
   "source": []
  },
  {
   "cell_type": "code",
   "execution_count": null,
   "metadata": {
    "collapsed": true
   },
   "outputs": [],
   "source": []
  },
  {
   "cell_type": "code",
   "execution_count": null,
   "metadata": {
    "collapsed": true
   },
   "outputs": [],
   "source": [
    "pca = PCA(random_state=42,n_components=1)\n",
    "L3_AER_family_train =  train.filter(regex='L3_AER_.*')\n",
    "train_pca = pca.fit_transform(L3_AER_family)\n",
    "train['pca_AER_'] = train_pca[:,0]\n",
    "L3_AER_family_test =  test.filter(regex='L3_AER.*')\n",
    "test_pca = pca.transform(pg_features)\n",
    "test['pca_AER_'] = test_pca[:,0]\n",
    "\n",
    "pca = PCA(random_state=42,n_components=1)\n",
    "\n",
    "L3_NO2_family_train =  train.filter(regex='L3_NO2_.*')\n",
    "\n",
    "train_pca = pca.fit_transform(L3_NO2_family_train)\n",
    "\n",
    "train['pca_NO2_'] = train_pca[:,0]\n",
    "\n",
    "L3_NO2_family_test =  test.filter(regex='L3_NO2.*')\n",
    "\n",
    "test_pca = pca.transform(L3_NO2_family_test)\n",
    "\n",
    "test['pca_NO2_'] = test_pca[:,0]"
   ]
  },
  {
   "cell_type": "code",
   "execution_count": null,
   "metadata": {
    "collapsed": true
   },
   "outputs": [],
   "source": [
    "trainag=train.copy()\n",
    "testag=test.copy()"
   ]
  },
  {
   "cell_type": "code",
   "execution_count": null,
   "metadata": {
    "collapsed": true
   },
   "outputs": [],
   "source": [
    "train.drop(['Place_ID X Date','Date','Place_ID'],inplace=True,axis=1)\n",
    "test.drop(['Place_ID X Date','Date','Place_ID'],inplace=True,axis=1)\n",
    "target=train['target']\n",
    "train.drop('target',axis=1,inplace=True)"
   ]
  },
  {
   "cell_type": "code",
   "execution_count": null,
   "metadata": {
    "collapsed": true
   },
   "outputs": [],
   "source": [
    "feature=['precipitable_water_entire_atmosphere','relative_humidity_2m_above_ground','specific_humidity_2m_above_ground','temperature_2m_above_ground', 'u_component_of_wind_10m_above_ground', 'v_component_of_wind_10m_above_ground', \t'L3_NO2_NO2_column_number_density', 'L3_SO2_SO2_column_number_density','L3_SO2_SO2_column_number_density_amf','L3_SO2_SO2_slant_column_number_density','L3_NO2_tropospheric_NO2_column_number_density', 'L3_HCHO_tropospheric_HCHO_column_number_density', 'L3_CO_CO_column_number_density', 'L3_HCHO_HCHO_slant_column_number_density'\t,'L3_CO_H2O_column_number_density','L3_O3_O3_column_number_density'\t,'L3_NO2_NO2_slant_column_number_density']\n",
    "train1=train.copy()\n",
    "test1=test.copy()\n",
    "for c in list(feature):\n",
    "  if c not in l:\n",
    "    train1.drop(c,inplace=True,axis=1)\n",
    "    test1.drop(c,inplace=True,axis=1)\n",
    "    \n",
    "pca = PCA(random_state=42,n_components=1)\n",
    "train_pca = pca.fit_transform(train1)\n",
    "train['pca_feature'] = train_pca[:,0]\n",
    "test_pca = pca.transform(test1)\n",
    "test['pca_feature'] = test_pca[:,0]"
   ]
  },
  {
   "cell_type": "code",
   "execution_count": null,
   "metadata": {
    "collapsed": true
   },
   "outputs": [],
   "source": [
    "train1=train.copy()\n",
    "test1=test.copy()"
   ]
  },
  {
   "cell_type": "code",
   "execution_count": null,
   "metadata": {
    "collapsed": true
   },
   "outputs": [],
   "source": [
    "pca = PCA(random_state=42,n_components=1)\n",
    "train_pca = pca.fit_transform(train1)\n",
    "train['pca_feature'] = train_pca[:,0]\n",
    "test_pca = pca.transform(test1)\n",
    "test['pca_feature'] = test_pca[:,0]"
   ]
  },
  {
   "cell_type": "code",
   "execution_count": null,
   "metadata": {
    "collapsed": true
   },
   "outputs": [],
   "source": []
  },
  {
   "cell_type": "code",
   "execution_count": null,
   "metadata": {
    "collapsed": true
   },
   "outputs": [],
   "source": [
    "from sklearn.model_selection import KFold,StratifiedKFold,train_test_split\n",
    "X_train,X_test,y_train,y_test= train_test_split(train, target, test_size = 0.15, random_state = 42)"
   ]
  },
  {
   "cell_type": "code",
   "execution_count": null,
   "metadata": {
    "collapsed": true
   },
   "outputs": [],
   "source": []
  },
  {
   "cell_type": "code",
   "execution_count": null,
   "metadata": {
    "collapsed": true
   },
   "outputs": [],
   "source": []
  },
  {
   "cell_type": "code",
   "execution_count": null,
   "metadata": {
    "collapsed": true
   },
   "outputs": [],
   "source": [
    "from catboost import CatBoostRegressor\n",
    "cb_model = CatBoostRegressor(iterations=30000,\n",
    "                             learning_rate=0.045,\n",
    "                             depth=8,\n",
    "                             eval_metric='RMSE',\n",
    "                             random_seed = 42,\n",
    "                             bagging_temperature = 0.2,\n",
    "                             od_type='Iter',\n",
    "                             metric_period = 50,\n",
    "                             od_wait=300)\n",
    "cb_model.fit(train,target,\n",
    "             use_best_model=True,\n",
    "             verbose=50)"
   ]
  },
  {
   "cell_type": "code",
   "execution_count": null,
   "metadata": {
    "collapsed": true
   },
   "outputs": [],
   "source": [
    "pred_test_cat2 = (cb_model.predict(test))"
   ]
  },
  {
   "cell_type": "code",
   "execution_count": null,
   "metadata": {
    "collapsed": true
   },
   "outputs": [],
   "source": [
    "import lightgbm as lgb"
   ]
  },
  {
   "cell_type": "code",
   "execution_count": null,
   "metadata": {
    "collapsed": true
   },
   "outputs": [],
   "source": [
    "boost_params = {'eval_metric': 'rmse'}\n",
    "lgb_ = lgb.LGBMRegressor(\n",
    "max_depth=30,\n",
    "learning_rate=0.0,\n",
    "n_estimators=2000,\n",
    "objective='regression',\n",
    "gamma=0,\n",
    "min_child_weight=1,\n",
    "subsample=1,\n",
    "colsample_bytree=1,\n",
    "scale_pos_weight=1,\n",
    "seed=42,random_state = 42,\n",
    "**boost_params)\n",
    "lgb_.fit(dev_X,dev_y)\n",
    "accuracyxgboost = round(lgb_.score(val_X, val_y)*100,2)\n",
    "predict_xgboost = lgb_.predict(val_X)\n",
    "msexgboost = mean_squared_error(val_y,predict_xgboost)\n",
    "rmsexgboost= np.sqrt(msexgboost)\n",
    "with open('lb1.pickle','wb') as f:\n",
    "    pickle.dump(lgb_,f)\n",
    "print(rmsexgboost)\n",
    "print(accuracyxgboost)\n"
   ]
  },
  {
   "cell_type": "code",
   "execution_count": 32,
   "metadata": {
    "collapsed": true
   },
   "outputs": [],
   "source": [
    "features_corr_ = ['L3_NO2_NO2_column_number_density','L3_HCHO_tropospheric_HCHO_column_number_density','L3_CO_CO_column_number_density','L3_CLOUD_surface_albedo','L3_CLOUD_cloud_optical_depth']\n",
    "\n",
    "for i in features_corr_:\n",
    "    train[i+'_new_'+str(2)] = train[i].shift(periods = 2)\n",
    "    train[i+'_new_'+str(3)] = train[i].shift(periods = 3)\n",
    "    test[i+'_new_'+str(2)] = test[i].shift(periods = 2)\n",
    "    test[i+'_new_'+str(3)] = test[i].shift(periods = 3)"
   ]
  },
  {
   "cell_type": "code",
   "execution_count": null,
   "metadata": {
    "collapsed": true
   },
   "outputs": [],
   "source": []
  },
  {
   "cell_type": "code",
   "execution_count": null,
   "metadata": {
    "collapsed": true
   },
   "outputs": [],
   "source": []
  },
  {
   "cell_type": "code",
   "execution_count": null,
   "metadata": {
    "collapsed": true
   },
   "outputs": [],
   "source": []
  },
  {
   "cell_type": "code",
   "execution_count": null,
   "metadata": {
    "collapsed": true
   },
   "outputs": [],
   "source": []
  },
  {
   "cell_type": "code",
   "execution_count": null,
   "metadata": {
    "collapsed": true
   },
   "outputs": [],
   "source": []
  },
  {
   "cell_type": "code",
   "execution_count": null,
   "metadata": {
    "collapsed": true
   },
   "outputs": [],
   "source": []
  }
 ],
 "metadata": {
  "kernelspec": {
   "display_name": "Python 3",
   "language": "python",
   "name": "python3"
  },
  "language_info": {
   "codemirror_mode": {
    "name": "ipython",
    "version": 3
   },
   "file_extension": ".py",
   "mimetype": "text/x-python",
   "name": "python",
   "nbconvert_exporter": "python",
   "pygments_lexer": "ipython3",
   "version": "3.6.3"
  }
 },
 "nbformat": 4,
 "nbformat_minor": 2
}
